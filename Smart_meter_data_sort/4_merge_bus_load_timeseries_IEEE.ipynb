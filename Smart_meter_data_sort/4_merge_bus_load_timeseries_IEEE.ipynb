{
 "cells": [
  {
   "cell_type": "code",
   "execution_count": null,
   "metadata": {},
   "outputs": [],
   "source": [
    "import pandas as pd\n",
    "import numpy as np\n",
    "\n",
    "# Datei lesen\n",
    "df = pd.read_excel('input_file.xlsx', index_col=0)\n",
    "\n",
    "# Definieren Sie 32 Maximalwerte für die neuen Zeitreihen\n",
    "max_values = [500, 800, 700, 1000, 900, 1200, 1500, 1300, 1700, 2000, 1900, 2200, 2500, 2400, 2800, 3000, 2700, 3200, 3500, 3400, 3800, 4000, 3700, 4200, 4500, 4400, 4800, 5000, 5200, 5500, 5300, 5700]\n",
    "\n",
    "# Definieren Sie eine Liste von Indizes für die ursprünglichen Zeitreihen\n",
    "time_series_indices = list(range(6000))\n",
    "\n",
    "# Neue Datei erstellen\n",
    "result = pd.DataFrame()\n",
    "\n",
    "# Iteriere durch jede der 32 neuen Zeitreihen\n",
    "for max_value in max_values:\n",
    "    # Zufällig eine neue Zeitreihe auswählen\n",
    "    available_indices = list(set(time_series_indices) - set(result.columns))\n",
    "    chosen_index = np.random.choice(available_indices)\n",
    "\n",
    "    # Spalte zur Ergebnisdatei hinzufügen\n",
    "    result[df.columns[chosen_index]] = df.iloc[:, chosen_index]\n",
    "\n",
    "    # Wenn der Maximalwert erreicht ist, zur nächsten neuen Zeitreihe wechseln\n",
    "    while result.sum(axis=1).max() < max_value:\n",
    "        available_indices = list(set(time_series_indices) - set(result.columns))\n",
    "        if len(available_indices) == 0:\n",
    "            break\n",
    "        chosen_index = np.random.choice(available_indices)\n",
    "        result[df.columns[chosen_index]] = result[df.columns[chosen_index]] + df.iloc[:, chosen_index]\n",
    "\n",
    "# Ergebnisdatei speichern\n",
    "result.to_excel('output_file.xlsx')\n"
   ]
  }
 ],
 "metadata": {
  "language_info": {
   "name": "python"
  },
  "orig_nbformat": 4
 },
 "nbformat": 4,
 "nbformat_minor": 2
}
