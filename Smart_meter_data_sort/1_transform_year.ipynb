{
 "cells": [
  {
   "cell_type": "code",
   "execution_count": 1,
   "metadata": {},
   "outputs": [],
   "source": [
    "# Dieser Code ließt die Rohdaten der Stadtwerke aus den Ordner \"input\" ein, wandelt diese csv. Dateien in ein besseres Format und speichert die neuen csv. Dateien in dem Ornder \"output\"\n",
    "\n",
    "import csv\n",
    "from datetime import datetime, timedelta\n",
    "import pandas as pd\n",
    "import os\n",
    "import itertools\n",
    "\n",
    "\n",
    "folder = 'input'\n",
    "files = os.listdir(folder)\n",
    "#for each file in the input folder\n",
    "for file in files:\n",
    "    values = {}\n",
    "    ID = 0\n",
    "    with open(f'{folder}/{file}', newline='') as csvfile:\n",
    "        #\"os.path.splitext\" ist eine Funktion aus der \"os.path\"-Bibliothek, die den Dateinamen und die Dateierweiterung aus einem vollständigen Pfad trennt\n",
    "        filename = os.path.splitext(file)[0]\n",
    "        #In diesem Fall wird die Dateierweiterung entfernt, indem \"[0]\" verwendet wird, um das erste Element des Rückgabewerts von \"os.path.splitext\" (den Dateinamen) zu erhalten\n",
    "        data = csv.reader(csvfile, delimiter = \";\")\n",
    "        #skip the first 3 lines\n",
    "        next(data)\n",
    "        #first occurrence when opening file (initialisation)\n",
    "        row = next(itertools.islice(data, 1, 2))\n",
    "        ID = row[10]\n",
    "        day = datetime.strptime(row[0], '%d.%m.%y')\n",
    "        date = datetime.strptime(row[0]+\" \"+row[1], '%d.%m.%y %H:%M:%S')\n",
    "        date = date + timedelta(hours=-1)\n",
    "\n",
    "        for value in row[15::2]:\n",
    "            date = date + timedelta(hours=1)\n",
    "            values[date] = value\n",
    "        for row in data: \n",
    "            date = datetime.strptime(row[0]+\" \"+row[1], '%d.%m.%y %H:%M:%S')\n",
    "            date = date + timedelta(hours=-1)\n",
    "            #while still same smartmeter ID\n",
    "            if ID == row[10]:\n",
    "                for value in row[15::2]:\n",
    "                    date = date + timedelta(hours=1)\n",
    "                    values[date] = value\n",
    "\n",
    "            #start of new smartmeter\n",
    "            else : \n",
    "                #save current output\n",
    "                dataframe = pd.DataFrame.from_dict(values, orient='index')\n",
    "                os.makedirs(f'output/{filename}', exist_ok=True)  \n",
    "                dataframe.to_csv(f'output/{filename}/{ID}.csv')\n",
    "\n",
    "                ID = row[10]\n",
    "                for value in row[15::2]:\n",
    "                    date = date + timedelta(hours=1)\n",
    "                    values[date] = value\n",
    "                \n"
   ]
  }
 ],
 "metadata": {
  "kernelspec": {
   "display_name": "Python 3.9.12 ('base')",
   "language": "python",
   "name": "python3"
  },
  "language_info": {
   "codemirror_mode": {
    "name": "ipython",
    "version": 3
   },
   "file_extension": ".py",
   "mimetype": "text/x-python",
   "name": "python",
   "nbconvert_exporter": "python",
   "pygments_lexer": "ipython3",
   "version": "3.9.15"
  },
  "orig_nbformat": 4,
  "vscode": {
   "interpreter": {
    "hash": "2081760f1c3736c0f23b343f8717a57a2e7acf9e623fea9094d6936a46bdacf7"
   }
  }
 },
 "nbformat": 4,
 "nbformat_minor": 2
}
