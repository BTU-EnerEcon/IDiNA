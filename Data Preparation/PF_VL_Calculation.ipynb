{
 "cells": [
  {
   "cell_type": "code",
   "execution_count": 2,
   "id": "99c08f15",
   "metadata": {},
   "outputs": [],
   "source": [
    "import numpy as np\n",
    "import pandas as pd\n",
    "import openpyxl"
   ]
  },
  {
   "cell_type": "code",
   "execution_count": 1,
   "id": "7187d5c6",
   "metadata": {},
   "outputs": [
    {
     "ename": "NameError",
     "evalue": "name 'pd' is not defined",
     "output_type": "error",
     "traceback": [
      "\u001b[1;31m---------------------------------------------------------------------------\u001b[0m",
      "\u001b[1;31mNameError\u001b[0m                                 Traceback (most recent call last)",
      "\u001b[1;32m~\\AppData\\Local\\Temp/ipykernel_20280/2244106463.py\u001b[0m in \u001b[0;36m<module>\u001b[1;34m\u001b[0m\n\u001b[0;32m      1\u001b[0m \u001b[1;31m#1. Input parameter einlesen\u001b[0m\u001b[1;33m\u001b[0m\u001b[1;33m\u001b[0m\u001b[1;33m\u001b[0m\u001b[0m\n\u001b[1;32m----> 2\u001b[1;33m \u001b[0mpl\u001b[0m \u001b[1;33m=\u001b[0m \u001b[0mpd\u001b[0m\u001b[1;33m.\u001b[0m\u001b[0mread_excel\u001b[0m\u001b[1;33m(\u001b[0m\u001b[1;34m'pl_winter.xlsx'\u001b[0m\u001b[1;33m,\u001b[0m \u001b[0msheet_name\u001b[0m\u001b[1;33m=\u001b[0m\u001b[1;34m'pL'\u001b[0m\u001b[1;33m)\u001b[0m\u001b[1;33m\u001b[0m\u001b[1;33m\u001b[0m\u001b[0m\n\u001b[0m\u001b[0;32m      3\u001b[0m \u001b[0mPTDF_PBPK\u001b[0m \u001b[1;33m=\u001b[0m \u001b[0mpd\u001b[0m\u001b[1;33m.\u001b[0m\u001b[0mread_excel\u001b[0m\u001b[1;33m(\u001b[0m\u001b[1;34m'pl_winter.xlsx'\u001b[0m\u001b[1;33m,\u001b[0m \u001b[0msheet_name\u001b[0m\u001b[1;33m=\u001b[0m\u001b[1;34m'PTDF_PBPK'\u001b[0m\u001b[1;33m)\u001b[0m\u001b[1;33m\u001b[0m\u001b[1;33m\u001b[0m\u001b[0m\n\u001b[0;32m      4\u001b[0m \u001b[0mpl\u001b[0m\u001b[1;33m.\u001b[0m\u001b[0mhead\u001b[0m\u001b[1;33m(\u001b[0m\u001b[1;33m)\u001b[0m\u001b[1;33m\u001b[0m\u001b[1;33m\u001b[0m\u001b[0m\n",
      "\u001b[1;31mNameError\u001b[0m: name 'pd' is not defined"
     ]
    }
   ],
   "source": [
    "pl = pd.read_excel('pl_winter.xlsx', sheet_name='pL')\n",
    "#umbenennen der spalten 1 2 3 ... zu t1 t2 t3 ....\n",
    "pl.rename(columns={str(i): 't'+str(i) for i in range(1,97)}, inplace=True)\n",
    "\n",
    "PTDF_PBPK = pd.read_excel('pl_winter.xlsx', sheet_name='PTDF_PBPK')\n",
    "#umbenennen der spalten 1 2 3 ... zu t1 t2 t3 ....\n",
    "PTDF_PBPK.rename(columns={str(i): 't'+str(i) for i in range(1,97)}, inplace=True)\n",
    "\n",
    "PTDF_PBPK.head()"
   ]
  },
  {
   "cell_type": "code",
   "execution_count": null,
   "id": "27a47596",
   "metadata": {},
   "outputs": [],
   "source": [
    "#2. Berechnung der resultierenden Power flows\n",
    "#PF_result = pd.DataFrame()\n",
    "\n",
    "def PF_result(s, l, t):\n",
    "    ABC = result[(result['s'] == s) & (result['t'] == t)]['ABC']\n",
    "    PTDF_PBPK = dataframe_PTDF_PBPK[(dataframe_PTDF_PBPK['l'] == l) & (dataframe_PTDF_PBPK['t'] == t)]['PTDF_PBPK']\n",
    "    return (pl[l][t] + sum(ABC * PTDF_PBPK) * 1000000) / 1000000\n"
   ]
  },
  {
   "cell_type": "code",
   "execution_count": null,
   "id": "a7b94e99",
   "metadata": {},
   "outputs": [],
   "source": [
    "result = pd.DataFrame(index=range(32),columns=['Scenario','lines'] + ['t'+str(i) for i in range(1,97)])\n",
    "result['lines'] = pl['lines']\n",
    "result['Scenario'] = load_variation['Scenario']\n",
    "#result['t'] = pl.columns[1:]\n",
    "result.head()\n",
    "\n",
    "for s in load_variation['Scenario']:\n",
    "    for l in pl['lines']:\n",
    "        for t in range(1,97):\n",
    "            load_variation_slice = load_variation[load_variation['Scenario'] == s]\n",
    "#            print(load_variation_slice.shape)\n",
    "            PTDF_PBPK_slice = PTDF_PBPK[PTDF_PBPK['l'] == l]\n",
    "#            print(PTDF_PBPK_slice.shape)\n",
    "            result.loc[(result['Scenario'] == s) & (result['lines'] == l), 't'+str(t)] = pl.loc[pl['lines'] == l, 't'+str(t)] + load_variation_slice.loc[:, 't'+str(t)].dot(PTDF_PBPK_slice.loc[:, 't'+str(t)])"
   ]
  }
 ],
 "metadata": {
  "kernelspec": {
   "display_name": "Python 3 (ipykernel)",
   "language": "python",
   "name": "python3"
  },
  "language_info": {
   "codemirror_mode": {
    "name": "ipython",
    "version": 3
   },
   "file_extension": ".py",
   "mimetype": "text/x-python",
   "name": "python",
   "nbconvert_exporter": "python",
   "pygments_lexer": "ipython3",
   "version": "3.9.5"
  }
 },
 "nbformat": 4,
 "nbformat_minor": 5
}
